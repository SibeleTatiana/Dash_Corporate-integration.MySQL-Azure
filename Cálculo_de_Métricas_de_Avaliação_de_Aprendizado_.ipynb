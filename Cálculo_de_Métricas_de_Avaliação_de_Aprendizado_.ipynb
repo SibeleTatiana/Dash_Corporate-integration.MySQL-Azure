{
  "nbformat": 4,
  "nbformat_minor": 0,
  "metadata": {
    "colab": {
      "provenance": [],
      "authorship_tag": "ABX9TyN/5E7gYcycntKHHKTZVFBt"
    },
    "kernelspec": {
      "name": "python3",
      "display_name": "Python 3"
    },
    "language_info": {
      "name": "python"
    }
  },
  "cells": [
    {
      "cell_type": "code",
      "execution_count": 1,
      "metadata": {
        "colab": {
          "base_uri": "https://localhost:8080/"
        },
        "id": "6BnQgf-5TXJq",
        "outputId": "8696d506-3503-4c99-e360-97e5d627e643"
      },
      "outputs": [
        {
          "output_type": "stream",
          "name": "stdout",
          "text": [
            "Acurácia: 0.86\n",
            "Precisão: 0.83\n",
            "Recall (Sensibilidade): 0.91\n",
            "Especificidade: 0.80\n",
            "F-Score: 0.87\n"
          ]
        }
      ],
      "source": [
        "# Definir os valores arbitrários da matriz de confusão\n",
        "VP = 50  # Verdadeiros Positivos\n",
        "VN = 40  # Verdadeiros Negativos\n",
        "FP = 10  # Falsos Positivos\n",
        "FN = 5   # Falsos Negativos\n",
        "\n",
        "# Funções para calcular as métricas\n",
        "def acuracia(VP, VN, FP, FN):\n",
        "    return (VP + VN) / (VP + VN + FP + FN)\n",
        "\n",
        "def precisao(VP, FP):\n",
        "    return VP / (VP + FP) if (VP + FP) != 0 else 0\n",
        "\n",
        "def recall(VP, FN):\n",
        "    return VP / (VP + FN) if (VP + FN) != 0 else 0\n",
        "\n",
        "def especificidade(VN, FP):\n",
        "    return VN / (VN + FP) if (VN + FP) != 0 else 0\n",
        "\n",
        "def f_score(precisao, recall):\n",
        "    return 2 * (precisao * recall) / (precisao + recall) if (precisao + recall) != 0 else 0\n",
        "\n",
        "# Calcular as métricas\n",
        "acc = acuracia(VP, VN, FP, FN)\n",
        "prec = precisao(VP, FP)\n",
        "rec = recall(VP, FN)\n",
        "esp = especificidade(VN, FP)\n",
        "f1 = f_score(prec, rec)\n",
        "\n",
        "# Exibir os resultados\n",
        "print(f\"Acurácia: {acc:.2f}\")\n",
        "print(f\"Precisão: {prec:.2f}\")\n",
        "print(f\"Recall (Sensibilidade): {rec:.2f}\")\n",
        "print(f\"Especificidade: {esp:.2f}\")\n",
        "print(f\"F-Score: {f1:.2f}\")\n"
      ]
    },
    {
      "cell_type": "code",
      "source": [],
      "metadata": {
        "id": "6LYyYK98T2Rd"
      },
      "execution_count": null,
      "outputs": []
    }
  ]
}